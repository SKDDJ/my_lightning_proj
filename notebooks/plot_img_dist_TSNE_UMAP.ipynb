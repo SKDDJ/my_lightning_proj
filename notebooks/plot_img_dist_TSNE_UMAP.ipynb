{
 "cells": [
  {
   "cell_type": "markdown",
   "metadata": {},
   "source": [
    "# Images\n",
    "## TSNE"
   ]
  },
  {
   "cell_type": "code",
   "execution_count": null,
   "metadata": {},
   "outputs": [],
   "source": [
    "import os\n",
    "import numpy as np\n",
    "from PIL import Image\n",
    "from sklearn.manifold import TSNE\n",
    "import matplotlib.pyplot as plt\n",
    "import matplotlib.patheffects as PathEffects\n",
    "import random\n"
   ]
  },
  {
   "cell_type": "code",
   "execution_count": null,
   "metadata": {},
   "outputs": [],
   "source": [
    "def load_images_and_labels(base_path, target_size=(64, 64)):\n",
    "    images = []\n",
    "    labels = []\n",
    "    label_dict = {}\n",
    "    current_label = 0\n",
    "    for folder in sorted(os.listdir(base_path)):\n",
    "        folder_path = os.path.join(base_path, folder)\n",
    "        if os.path.isdir(folder_path):\n",
    "            label_dict[folder] = current_label\n",
    "            for file in sorted(os.listdir(folder_path)):\n",
    "                if file.endswith(\".png\"):\n",
    "                    img_path = os.path.join(folder_path, file)\n",
    "                    img = Image.open(img_path).resize(target_size)\n",
    "                    img_array = np.asarray(img)\n",
    "                    images.append(img_array)\n",
    "                    labels.append(current_label)\n",
    "            current_label += 1\n",
    "    return np.array(images), np.array(labels), label_dict\n"
   ]
  },
  {
   "cell_type": "code",
   "execution_count": null,
   "metadata": {},
   "outputs": [],
   "source": [
    "base_path = \"/root/shiym_proj/DiffLook/notebooks/img_datasets\"\n",
    "images, labels, label_dict = load_images_and_labels(base_path)\n",
    "\n",
    "print(images.shape)\n",
    "\n",
    "\n",
    "n_samples, width, height, channels = images.shape\n",
    "X = images.reshape((n_samples, width * height * channels))\n",
    "X = X / 255.0\n",
    "\n",
    "# 随机选择一个子集\n",
    "indices = np.arange(len(X))\n",
    "random.shuffle(indices)\n",
    "n_select = 1000000  # 根据你的计算能力选择\n",
    "X_subset = X[indices[:n_select]]\n",
    "y_subset = labels[indices[:n_select]]\n",
    "\n",
    "tsne = TSNE(n_components=2, random_state=0)\n",
    "X_2d = tsne.fit_transform(X_subset)\n",
    "\n"
   ]
  },
  {
   "cell_type": "code",
   "execution_count": null,
   "metadata": {},
   "outputs": [],
   "source": [
    "def scatter(x, colors):\n",
    "    palette = np.array(plt.cm.jet(np.linspace(0, 1, len(set(colors)))))\n",
    "    f = plt.figure(figsize=(8, 8))\n",
    "    ax = plt.subplot(aspect='equal')\n",
    "    # sc = ax.scatter(x[:,0], x[:,1], lw=0, s=40, c=palette[colors.astype(np.int)])\n",
    "    sc = ax.scatter(x[:,0], x[:,1], lw=0, s=40, c=palette[colors.astype(int)])\n",
    "\n",
    "    plt.xlim(-25, 25)\n",
    "    plt.ylim(-25, 25)\n",
    "    ax.axis('off')\n",
    "    ax.axis('tight')\n",
    "    \n",
    "    # 添加标签\n",
    "    txts = []\n",
    "    for i in range(len(set(colors))):\n",
    "        xtext, ytext = np.median(x[colors == i, :], axis=0)\n",
    "        txt = ax.text(xtext, ytext, str(i), fontsize=24)\n",
    "        txt.set_path_effects([\n",
    "            PathEffects.Stroke(linewidth=5, foreground=\"w\"),\n",
    "            PathEffects.Normal()])\n",
    "        txts.append(txt)\n",
    "\n",
    "scatter(X_2d, y_subset)\n",
    "plt.show()\n"
   ]
  },
  {
   "cell_type": "markdown",
   "metadata": {},
   "source": [
    "## UMAP"
   ]
  },
  {
   "cell_type": "code",
   "execution_count": null,
   "metadata": {},
   "outputs": [],
   "source": [
    "import os\n",
    "import numpy as np\n",
    "from PIL import Image\n",
    "import umap\n",
    "import matplotlib.pyplot as plt\n",
    "import matplotlib.patheffects as PathEffects\n",
    "import random\n"
   ]
  },
  {
   "cell_type": "code",
   "execution_count": null,
   "metadata": {},
   "outputs": [],
   "source": [
    "reducer = umap.UMAP(random_state=42)\n",
    "X_2d = reducer.fit_transform(X_subset)\n",
    "\n",
    "def scatter(x, colors):\n",
    "    palette = np.array(plt.cm.jet(np.linspace(0, 1, len(set(colors)))))\n",
    "    f = plt.figure(figsize=(8, 8))\n",
    "    ax = plt.subplot(aspect='equal')\n",
    "    # sc = ax.scatter(x[:,0], x[:,1], lw=0, s=40, c=palette[colors.astype(np.int)])\n",
    "    sc = ax.scatter(x[:,0], x[:,1], lw=0, s=40, c=palette[colors.astype(int)])\n",
    "\n",
    "    plt.xlim(-25, 25)\n",
    "    plt.ylim(-25, 25)\n",
    "    ax.axis('off')\n",
    "    ax.axis('tight')\n",
    "    \n",
    "    # 添加标签\n",
    "    txts = []\n",
    "    for i in range(len(set(colors))):\n",
    "        xtext, ytext = np.median(x[colors == i, :], axis=0)\n",
    "        txt = ax.text(xtext, ytext, str(i), fontsize=24)\n",
    "        txt.set_path_effects([\n",
    "            PathEffects.Stroke(linewidth=5, foreground=\"w\"),\n",
    "            PathEffects.Normal()])\n",
    "        txts.append(txt)\n",
    "\n",
    "scatter(X_2d, y_subset)\n",
    "plt.show()\n"
   ]
  },
  {
   "cell_type": "code",
   "execution_count": null,
   "metadata": {},
   "outputs": [],
   "source": []
  }
 ],
 "metadata": {
  "kernelspec": {
   "display_name": "difflook",
   "language": "python",
   "name": "python3"
  },
  "language_info": {
   "codemirror_mode": {
    "name": "ipython",
    "version": 3
   },
   "file_extension": ".py",
   "mimetype": "text/x-python",
   "name": "python",
   "nbconvert_exporter": "python",
   "pygments_lexer": "ipython3",
   "version": "3.10.14"
  }
 },
 "nbformat": 4,
 "nbformat_minor": 2
}
